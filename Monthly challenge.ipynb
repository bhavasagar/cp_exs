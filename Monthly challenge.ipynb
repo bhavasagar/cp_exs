{
 "cells": [
  {
   "cell_type": "code",
   "execution_count": 1,
   "id": "a3515220",
   "metadata": {},
   "outputs": [
    {
     "data": {
      "text/plain": [
       "95367431640625"
      ]
     },
     "execution_count": 1,
     "metadata": {},
     "output_type": "execute_result"
    }
   ],
   "source": [
    "5**20"
   ]
  },
  {
   "cell_type": "code",
   "execution_count": 30,
   "id": "f88064a1",
   "metadata": {},
   "outputs": [
    {
     "data": {
      "text/plain": [
       "129140163.0"
      ]
     },
     "execution_count": 30,
     "metadata": {},
     "output_type": "execute_result"
    }
   ],
   "source": [
    "387420489/3"
   ]
  },
  {
   "cell_type": "code",
   "execution_count": 22,
   "id": "42967ee8",
   "metadata": {
    "scrolled": true
   },
   "outputs": [
    {
     "name": "stdout",
     "output_type": "stream",
     "text": [
      "1\n",
      "1 2 2 -4\n",
      "-4 1\n",
      "1\n"
     ]
    }
   ],
   "source": [
    "n = int(input())\n",
    "nums = input().split(' ')\n",
    "nums = [int(num) for num in nums]\n",
    "\n",
    "\n",
    "first_min = 100000000\n",
    "second_min = 100000000\n",
    "\n",
    "for number in nums:\n",
    "    if number < first_min:        \n",
    "        first_min = number\n",
    "\n",
    "for number in nums:\n",
    "    if number < second_min and first_min < number:\n",
    "        second_min = number\n",
    "        \n",
    "if second_min != first_min and second_min != 100000000:\n",
    "    print(second_min)\n",
    "else:\n",
    "    print(\"NO\")"
   ]
  },
  {
   "cell_type": "code",
   "execution_count": 32,
   "id": "dfb5653e",
   "metadata": {},
   "outputs": [
    {
     "name": "stdout",
     "output_type": "stream",
     "text": [
      "3\n",
      "-1 -1 2\n",
      "6\n"
     ]
    }
   ],
   "source": [
    "n = int(input())\n",
    "\n",
    "nums = [int(num) for num in input().split(' ')]\n",
    "\n",
    "nums.sort()\n",
    "\n",
    "steps = 0\n",
    "\n",
    "for index in range(n):\n",
    "    steps += abs(nums[n-index-1] - (n-index))\n",
    "\n",
    "print(steps)    "
   ]
  },
  {
   "cell_type": "code",
   "execution_count": 33,
   "id": "05f1a28b",
   "metadata": {},
   "outputs": [
    {
     "name": "stdout",
     "output_type": "stream",
     "text": [
      "2\n",
      "25\n"
     ]
    }
   ],
   "source": [
    "n = int(input())\n",
    "\n",
    "val = 5**n\n",
    "\n",
    "print(val%100)"
   ]
  },
  {
   "cell_type": "code",
   "execution_count": 3,
   "id": "ec2f71aa",
   "metadata": {},
   "outputs": [
    {
     "name": "stdout",
     "output_type": "stream",
     "text": [
      "5 10\n",
      "10 20 50 60 65\n",
      "0 10 20\n",
      "1 50 60\n",
      "2 60 65\n",
      "6\n"
     ]
    }
   ],
   "source": [
    "n,d = map(int,input().split())\n",
    "\n",
    "heights = [int(num) for num in input().split(' ')]\n",
    "\n",
    "\n",
    "special_force = 0\n",
    "\n",
    "for i in range(n):\n",
    "    for j in range(i+1, n):\n",
    "        if abs(heights[i] - heights[j]) <= d:\n",
    "#             print(special_force, heights[i] , heights[j])\n",
    "            special_force += 1\n",
    "special_force *= 2\n",
    "\n",
    "print(special_force)"
   ]
  },
  {
   "cell_type": "code",
   "execution_count": 12,
   "id": "8d54a45b",
   "metadata": {},
   "outputs": [
    {
     "name": "stdout",
     "output_type": "stream",
     "text": [
      "4\n",
      "andrew 3\n",
      "andrew 2\n",
      "andrew -5\n",
      "mike 5\n",
      "mike\n"
     ]
    }
   ],
   "source": [
    "rounds = int(input())\n",
    "\n",
    "def find_winner(scores):\n",
    "    for key, value in scores:\n",
    "        pass\n",
    "#     TODO: find the current winner.\n",
    "\n",
    "\n",
    "scores = {}\n",
    "track_winners = []\n",
    "max_score = -100000000\n",
    "winner = ''\n",
    "\n",
    "for i in range(rounds):\n",
    "    person, score = input().split(' ')    \n",
    "    person = person.strip()\n",
    "    score = int(score)\n",
    "    try:                \n",
    "        scores[person] += score\n",
    "        c_score = scores[person]\n",
    "    except:\n",
    "        scores[person] = score\n",
    "        c_score = score\n",
    "    if score < 0 and person == winner:\n",
    "        max_score += score \n",
    "        winner = track_winners[-1]\n",
    "        track_winners.append(winner)\n",
    "    elif c_score > max_score:\n",
    "        track_winners.append(person)\n",
    "        max_score = c_score\n",
    "        winner = person\n",
    "        \n",
    "print(winner)"
   ]
  },
  {
   "cell_type": "code",
   "execution_count": null,
   "id": "b9fa265d",
   "metadata": {},
   "outputs": [],
   "source": []
  }
 ],
 "metadata": {
  "kernelspec": {
   "display_name": "Python 3 (ipykernel)",
   "language": "python",
   "name": "python3"
  },
  "language_info": {
   "codemirror_mode": {
    "name": "ipython",
    "version": 3
   },
   "file_extension": ".py",
   "mimetype": "text/x-python",
   "name": "python",
   "nbconvert_exporter": "python",
   "pygments_lexer": "ipython3",
   "version": "3.9.7"
  }
 },
 "nbformat": 4,
 "nbformat_minor": 5
}
